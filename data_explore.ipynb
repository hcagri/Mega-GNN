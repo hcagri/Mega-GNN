{
 "cells": [
  {
   "cell_type": "code",
   "execution_count": null,
   "metadata": {},
   "outputs": [],
   "source": [
    "%load_ext cython"
   ]
  },
  {
   "cell_type": "code",
   "execution_count": 1,
   "metadata": {},
   "outputs": [],
   "source": [
    "import pandas as pd \n",
    "import torch \n",
    "import numpy as np\n",
    "from torch_geometric.data import Data, HeteroData\n",
    "from torch_geometric.typing import OptTensor\n",
    "from torch_scatter import scatter\n",
    "import multiprocessing as mp\n",
    "\n",
    "graph = torch.load('sample_data/batch.pth')"
   ]
  },
  {
   "cell_type": "code",
   "execution_count": 2,
   "metadata": {},
   "outputs": [
    {
     "data": {
      "text/plain": [
       "HeteroGraphData(\n",
       "  readout='edge',\n",
       "  node={\n",
       "    x=[150319, 2],\n",
       "    n_id=[150319],\n",
       "  },\n",
       "  (node, to, node)={\n",
       "    edge_index=[2, 706829],\n",
       "    edge_attr=[706829, 5],\n",
       "    y=[706829],\n",
       "    timestamps=[706829],\n",
       "    e_id=[706829],\n",
       "    input_id=[8192],\n",
       "    edge_label_index=[2, 8192],\n",
       "    edge_label=[8192],\n",
       "  },\n",
       "  (node, rev_to, node)={\n",
       "    edge_index=[2, 891736],\n",
       "    edge_attr=[891736, 5],\n",
       "    e_id=[891736],\n",
       "  }\n",
       ")"
      ]
     },
     "execution_count": 2,
     "metadata": {},
     "output_type": "execute_result"
    }
   ],
   "source": []
  },
  {
   "cell_type": "code",
   "execution_count": 6,
   "metadata": {},
   "outputs": [
    {
     "data": {
      "text/plain": [
       "891736"
      ]
     },
     "execution_count": 6,
     "metadata": {},
     "output_type": "execute_result"
    }
   ],
   "source": [
    "graph['node', 'rev_to', 'node'].num_edges"
   ]
  },
  {
   "cell_type": "code",
   "execution_count": null,
   "metadata": {},
   "outputs": [],
   "source": [
    "res = np.lexsort((data[:, 2], data[:, 1]))"
   ]
  },
  {
   "cell_type": "code",
   "execution_count": null,
   "metadata": {},
   "outputs": [],
   "source": [
    "res[:100]"
   ]
  },
  {
   "cell_type": "code",
   "execution_count": null,
   "metadata": {},
   "outputs": [],
   "source": [
    "res.shape"
   ]
  },
  {
   "cell_type": "code",
   "execution_count": null,
   "metadata": {},
   "outputs": [],
   "source": [
    "%%cython\n",
    "\n",
    "import cython\n",
    "\n",
    "@cython.boundscheck(False)\n",
    "@cython.wraparound(False)\n",
    "@cython.cdivision(True)\n",
    "\n",
    "def assign_ports(int[:,:] arr, int[:] ports):\n",
    "    cdef: \n",
    "        int j = 0, prev_v = -1\n",
    "        int counter = 0\n",
    "        dict mapping = {}\n",
    "    \n",
    "    for u, v in arr:\n",
    "        if v != prev_v:\n",
    "            counter = 0\n",
    "            mapping = {}\n",
    "            mapping[u] = counter\n",
    "            ports[j] = counter\n",
    "        else:\n",
    "            if u in mapping:\n",
    "                ports[j] = mapping[u]\n",
    "            else:\n",
    "                counter += 1\n",
    "                mapping[u] = counter\n",
    "                ports[j] = counter\n",
    "        \n",
    "        prev_v = v\n",
    "        j+=1\n",
    "    \n",
    "    return ports"
   ]
  },
  {
   "cell_type": "code",
   "execution_count": null,
   "metadata": {},
   "outputs": [],
   "source": [
    "import time \n",
    "for i in range(10):\n",
    "\n",
    "    t1 = time.perf_counter()\n",
    "\n",
    "    def process_ports(df, direction = ['source', 'target']):\n",
    "\n",
    "        df = df.sort_values([direction[1], 't'])\n",
    "        ports = np.zeros((graph['node', 'to', 'node'].edge_index.shape[1], ), dtype=np.int32)\n",
    "        array = df[direction].to_numpy(dtype=np.int32)\n",
    "        ports = assign_ports(array, ports)\n",
    "        \n",
    "        return torch.tensor(ports)[np.argsort(df.index)]\n",
    "\n",
    "\n",
    "    edge_index = graph['node', 'to', 'node'].edge_index \n",
    "    df = pd.DataFrame(torch.cat([edge_index.T, graph.timestamps.reshape((-1,1))], dim=1).numpy().astype('int'), columns=['source', 'target', 't'])\n",
    "\n",
    "\n",
    "    with mp.Pool(2) as pool:\n",
    "        ports_1, ports_2 = pool.starmap(process_ports, [\n",
    "            (df, ['source', 'target']),\n",
    "            (df, ['target', 'source'])\n",
    "        ])\n",
    "\n",
    "    # port_1 = process_ports(df, ['source', 'target'])\n",
    "    # port_2 = process_ports(df, ['target', 'source'])\n",
    "\n",
    "    t2 = time.perf_counter()\n",
    "    print(f\"Retrieved data in {t2-t1:.2f}s\")"
   ]
  },
  {
   "cell_type": "code",
   "execution_count": null,
   "metadata": {},
   "outputs": [],
   "source": [
    "ports"
   ]
  },
  {
   "cell_type": "code",
   "execution_count": null,
   "metadata": {},
   "outputs": [],
   "source": [
    "array.dtype"
   ]
  },
  {
   "cell_type": "code",
   "execution_count": null,
   "metadata": {},
   "outputs": [],
   "source": [
    "edge_index = graph['node', 'to', 'node'].edge_index\n",
    "timestamp = graph.timestamps\n",
    "edges = torch.cat([edge_index.T, timestamp.view(-1, 1)], dim=1).numpy().astype(np.int32)\n",
    "edge_index = edge_index.numpy().astype(np.int32)\n",
    "num_nodes = graph.num_nodes"
   ]
  },
  {
   "cell_type": "code",
   "execution_count": null,
   "metadata": {},
   "outputs": [],
   "source": [
    "def to_adj_nodes_with_times(num_nodes: int, edges: np.array):\n",
    "    adj_list_out = dict([(i, []) for i in range(num_nodes)])\n",
    "    adj_list_in = dict([(i, []) for i in range(num_nodes)])\n",
    "    for u,v,t in edges:\n",
    "        u,v,t = int(u), int(v), int(t)\n",
    "        adj_list_out[u] += [(v, t)]\n",
    "        adj_list_in[v] += [(u, t)]\n",
    "    return adj_list_in, adj_list_out\n",
    "\n",
    "\n",
    "\n",
    "def ports(edge_index, adj_list):\n",
    "    ports = np.zeros((edge_index.shape[1], 1))\n",
    "    ports_dict = {}\n",
    "    for v, nbs in adj_list.items():\n",
    "        if len(nbs) < 1: continue\n",
    "        a = np.array(nbs)\n",
    "        a = a[a[:, -1].argsort()]\n",
    "        _, idx = np.unique(a[:,[0]],return_index=True,axis=0)\n",
    "        nbs_unique = a[np.sort(idx)][:,0]\n",
    "        for i, u in enumerate(nbs_unique):\n",
    "            ports_dict[(u,v)] = i\n",
    "    for i, e in enumerate(edge_index.T):\n",
    "        ports[i] = ports_dict[tuple(e)]\n",
    "    return ports\n",
    "\n",
    "\n",
    "def add_ports(num_nodes, edge_index, edges):\n",
    "    '''Adds port numberings to the edge features'''\n",
    "    adj_list_in, adj_list_out = to_adj_nodes_with_times(num_nodes, edges)\n",
    "    in_ports = ports(edge_index, adj_list_in)\n",
    "    out_ports = [ports(edge_index[::-1, :], adj_list_out)] \n",
    "    return in_ports, out_ports\n",
    "\n"
   ]
  },
  {
   "cell_type": "code",
   "execution_count": null,
   "metadata": {},
   "outputs": [],
   "source": [
    "%%timeit \n",
    "add_ports(num_nodes, edge_index, edges)"
   ]
  },
  {
   "cell_type": "code",
   "execution_count": null,
   "metadata": {},
   "outputs": [],
   "source": [
    "%%cython\n",
    "\n",
    "import cython \n",
    "from cython.parallel cimport prange\n",
    "import numpy as np\n",
    "cimport numpy as np\n",
    "\n",
    "@cython.boundscheck(False)\n",
    "@cython.wraparound(False)\n",
    "@cython.cdivision(True)\n",
    "cdef to_adj_nodes_with_times(int num_nodes, int[:, ::1] edges):\n",
    "\n",
    "    cdef:\n",
    "        dict adj_list_out = {i: [] for i in range(num_nodes)}\n",
    "        dict adj_list_in = {i: [] for i in range(num_nodes)}\n",
    "        int u, v, t\n",
    "        int num_edges = edges.shape[0]\n",
    "    \n",
    "    for i in prange(num_edges, nogil=True):\n",
    "        u = edges[i, 0]\n",
    "        v = edges[i, 1]\n",
    "        t = edges[i, 2]\n",
    "        adj_list_out[u].append((v, t))\n",
    "        adj_list_in[v].append((u, t))\n",
    "    \n",
    "    return adj_list_in, adj_list_out\n",
    "\n",
    "\n",
    "@cython.boundscheck(False)\n",
    "@cython.wraparound(False)\n",
    "@cython.cdivision(True)\n",
    "cpdef ports(edge_index, dict adj_list):\n",
    "    cdef: \n",
    "        int num_edges = edge_index.shape[1]\n",
    "        np.ndarray[np.float64_t, ndim=2] ports = np.zeros((num_edges, 1), dtype=np.float64)\n",
    "        dict ports_dict = {}\n",
    "        int i, j\n",
    "        np.ndarray[int, ndim=2] a\n",
    "        np.ndarray[int, ndim=1] nbs_unique\n",
    "\n",
    "    for v, nbs in adj_list.items():\n",
    "        if len(nbs) < 1:\n",
    "            continue\n",
    "        a = np.array(nbs, dtype=np.int32)\n",
    "        a = a[np.argsort(a[:, -1])]\n",
    "        _, idx = np.unique(a[:, 0], return_index=True)\n",
    "        nbs_unique = a[np.sort(idx)][:, 0]\n",
    "        for j in range(len(nbs_unique)):\n",
    "            ports_dict[(nbs_unique[j], v)] = j\n",
    "\n",
    "    for i in range(num_edges):\n",
    "        ports[i] = ports_dict[(edge_index[0, i], edge_index[1, i])]\n",
    "\n",
    "    return ports\n",
    "\n",
    "\n",
    "@cython.boundscheck(False)\n",
    "@cython.wraparound(False)\n",
    "@cython.cdivision(True)\n",
    "def add_ports(int num_nodes, int[:, ::1] edge_index, int[:, ::1] edges):\n",
    "    cdef: \n",
    "        dict adj_list_in, adj_list_out\n",
    "        np.ndarray in_ports, out_ports\n",
    "\n",
    "    # Call Cython functions to compute adjacency lists and ports\n",
    "    adj_list_in, adj_list_out = to_adj_nodes_with_times(num_nodes, edges)\n",
    "    in_ports = ports(edge_index, adj_list_in)\n",
    "    out_ports = ports(edge_index[::-1, :], adj_list_out)\n",
    "\n",
    "    return in_ports, out_ports"
   ]
  },
  {
   "cell_type": "code",
   "execution_count": null,
   "metadata": {},
   "outputs": [],
   "source": [
    "%%timeit \n",
    "add_ports(num_nodes, edge_index, edges)"
   ]
  },
  {
   "cell_type": "code",
   "execution_count": null,
   "metadata": {},
   "outputs": [],
   "source": []
  },
  {
   "cell_type": "code",
   "execution_count": null,
   "metadata": {},
   "outputs": [],
   "source": []
  },
  {
   "cell_type": "code",
   "execution_count": null,
   "metadata": {},
   "outputs": [],
   "source": []
  },
  {
   "cell_type": "code",
   "execution_count": null,
   "metadata": {},
   "outputs": [],
   "source": []
  }
 ],
 "metadata": {
  "kernelspec": {
   "display_name": "multignn",
   "language": "python",
   "name": "python3"
  },
  "language_info": {
   "codemirror_mode": {
    "name": "ipython",
    "version": 3
   },
   "file_extension": ".py",
   "mimetype": "text/x-python",
   "name": "python",
   "nbconvert_exporter": "python",
   "pygments_lexer": "ipython3",
   "version": "3.9.19"
  }
 },
 "nbformat": 4,
 "nbformat_minor": 2
}
