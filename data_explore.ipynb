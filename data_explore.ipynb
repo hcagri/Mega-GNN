{
 "cells": [
  {
   "cell_type": "code",
   "execution_count": 1,
   "metadata": {},
   "outputs": [],
   "source": [
    "import pandas as pd \n",
    "import torch \n",
    "import numpy as np\n",
    "from torch_geometric.data import Data, HeteroData\n",
    "from torch_geometric.typing import OptTensor\n",
    "from torch_scatter import scatter\n",
    "\n",
    "graph = torch.load('sample_data/batch.pth')\n",
    "from torch_geometric.utils import degree"
   ]
  },
  {
   "cell_type": "code",
   "execution_count": 2,
   "metadata": {},
   "outputs": [],
   "source": [
    "def to_adj_nodes_with_times(data):\n",
    "    num_nodes = data.num_nodes\n",
    "    timestamps = torch.zeros((data.edge_index.shape[1], 1)) if data.timestamps is None else data.timestamps.reshape((-1,1))\n",
    "    edges = torch.cat((data.edge_index.T, timestamps), dim=1) if not isinstance(data, HeteroData) else torch.cat((data['node', 'to', 'node'].edge_index.T, timestamps), dim=1)\n",
    "    adj_list_out = dict([(i, []) for i in range(num_nodes)])\n",
    "    adj_list_in = dict([(i, []) for i in range(num_nodes)])\n",
    "    for u,v,t in edges:\n",
    "        u,v,t = int(u), int(v), int(t)\n",
    "        adj_list_out[u] += [(v, t)]\n",
    "        adj_list_in[v] += [(u, t)]\n",
    "    return adj_list_in, adj_list_out\n",
    "\n",
    "\n",
    "def ports(edge_index, adj_list):\n",
    "    ports = torch.zeros(edge_index.shape[1], 1)\n",
    "    ports_dict = {}\n",
    "    for v, nbs in adj_list.items():\n",
    "        if len(nbs) < 1: continue\n",
    "        a = np.array(nbs)\n",
    "        a = a[a[:, -1].argsort()]\n",
    "        _, idx = np.unique(a[:,[0]],return_index=True,axis=0)\n",
    "        nbs_unique = a[np.sort(idx)][:,0]\n",
    "        for i, u in enumerate(nbs_unique):\n",
    "            ports_dict[(u,v)] = i\n",
    "    for i, e in enumerate(edge_index.T):\n",
    "        ports[i] = ports_dict[tuple(e.numpy())]\n",
    "    return ports"
   ]
  },
  {
   "cell_type": "code",
   "execution_count": 12,
   "metadata": {},
   "outputs": [],
   "source": []
  },
  {
   "cell_type": "code",
   "execution_count": 7,
   "metadata": {},
   "outputs": [],
   "source": [
    "edge_index = graph['node', 'to', 'node'].edge_index \n",
    "df = pd.DataFrame(torch.cat([edge_index.T, graph.timestamps.reshape((-1,1))], dim=1).numpy().astype('int'), columns=['source', 'target', 't'])\n",
    "df = df.sort_values(['target', 't'])\n",
    "\n",
    "# df = df.groupby('target').apply(lambda x: x.sort_values('t'))\n"
   ]
  },
  {
   "cell_type": "code",
   "execution_count": 9,
   "metadata": {},
   "outputs": [
    {
     "name": "stdout",
     "output_type": "stream",
     "text": [
      "1.44 ms ± 11.2 µs per loop (mean ± std. dev. of 7 runs, 1,000 loops each)\n"
     ]
    }
   ],
   "source": [
    "%%timeit \n",
    "\n",
    "df[['source', 'target']].to_numpy()"
   ]
  },
  {
   "cell_type": "code",
   "execution_count": 15,
   "metadata": {},
   "outputs": [
    {
     "name": "stdout",
     "output_type": "stream",
     "text": [
      "235 ms ± 1.03 ms per loop (mean ± std. dev. of 7 runs, 1 loop each)\n"
     ]
    }
   ],
   "source": [
    "%%timeit\n",
    "\n",
    "prev_v = -1\n",
    "mapping = {}\n",
    "ports = torch.zeros(graph['node', 'to', 'node'].edge_index.shape[1], 1)\n",
    "\n",
    "j = 0\n",
    "array = df[['source', 'target']].to_numpy()\n",
    "for u, v in array:\n",
    "    if v != prev_v:\n",
    "        counter = 0\n",
    "        mapping = {}\n",
    "        mapping[u] = counter\n",
    "        ports[j] = counter\n",
    "    # else:\n",
    "    #     if u in mapping:\n",
    "    #         ports[j] = mapping[u]\n",
    "    #     else:\n",
    "    #         counter += 1\n",
    "    #         mapping[u] = counter\n",
    "    #         ports[j] = counter\n",
    "    \n",
    "    prev_v = v\n",
    "    j+=1"
   ]
  },
  {
   "cell_type": "code",
   "execution_count": null,
   "metadata": {},
   "outputs": [],
   "source": [
    "mapping"
   ]
  },
  {
   "cell_type": "code",
   "execution_count": null,
   "metadata": {},
   "outputs": [],
   "source": [
    "ports_pd()"
   ]
  },
  {
   "cell_type": "code",
   "execution_count": null,
   "metadata": {},
   "outputs": [],
   "source": []
  },
  {
   "cell_type": "code",
   "execution_count": null,
   "metadata": {},
   "outputs": [],
   "source": [
    "df[:10]"
   ]
  },
  {
   "cell_type": "code",
   "execution_count": null,
   "metadata": {},
   "outputs": [],
   "source": [
    "df[:10]"
   ]
  },
  {
   "cell_type": "code",
   "execution_count": null,
   "metadata": {},
   "outputs": [],
   "source": [
    "edge_index = graph['node', 'to', 'node'].edge_index \n",
    "df = pd.DataFrame(torch.cat([edge_index.T, graph.timestamps.reshape((-1,1))], dim=1).numpy().astype('int'), columns=['source', 'target', 't'])\n",
    "df = df.sort_values(['target', 'source'])"
   ]
  },
  {
   "cell_type": "code",
   "execution_count": null,
   "metadata": {},
   "outputs": [],
   "source": [
    "df"
   ]
  },
  {
   "cell_type": "code",
   "execution_count": null,
   "metadata": {},
   "outputs": [],
   "source": [
    "%%timeit\n",
    "df = new_adj(graph)"
   ]
  },
  {
   "cell_type": "code",
   "execution_count": null,
   "metadata": {},
   "outputs": [],
   "source": []
  },
  {
   "cell_type": "code",
   "execution_count": null,
   "metadata": {},
   "outputs": [],
   "source": []
  },
  {
   "cell_type": "code",
   "execution_count": null,
   "metadata": {},
   "outputs": [],
   "source": []
  },
  {
   "cell_type": "code",
   "execution_count": null,
   "metadata": {},
   "outputs": [],
   "source": [
    "from collections import defaultdict\n",
    "\n",
    "def to_adj_nodes_with_times_2(data):\n",
    "    num_nodes = data.num_nodes\n",
    "    timestamps = torch.zeros((data.edge_index.shape[1], 1)) if data.timestamps is None else data.timestamps.reshape((-1,1))\n",
    "    edges = torch.cat((data.edge_index.T, timestamps), dim=1) if not isinstance(data, HeteroData) else torch.cat((data['node', 'to', 'node'].edge_index.T, timestamps), dim=1)\n",
    "    adj_list_out = defaultdict(list)\n",
    "    adj_list_in  = defaultdict(list)\n",
    "    for u,v,t in edges:\n",
    "        u,v,t = int(u), int(v), int(t)\n",
    "        adj_list_out[u].append((v, t))\n",
    "        adj_list_out[v].append((u, t))\n",
    "    return adj_list_in, adj_list_out"
   ]
  },
  {
   "cell_type": "code",
   "execution_count": null,
   "metadata": {},
   "outputs": [],
   "source": [
    "%%timeit\n",
    "adj_list_in, adj_list_out = to_adj_nodes_with_times_2(graph)\n"
   ]
  },
  {
   "cell_type": "code",
   "execution_count": null,
   "metadata": {},
   "outputs": [],
   "source": [
    "%%timeit\n",
    "in_ports = ports(graph['node', 'to', 'node'].edge_index, adj_list_in)"
   ]
  },
  {
   "cell_type": "code",
   "execution_count": null,
   "metadata": {},
   "outputs": [],
   "source": [
    "%%timeit\n",
    "adj_list_in, adj_list_out = to_adj_nodes_with_times(graph)\n",
    "\n",
    "in_ports = ports(graph['node', 'to', 'node'].edge_index, adj_list_in)"
   ]
  },
  {
   "cell_type": "code",
   "execution_count": null,
   "metadata": {},
   "outputs": [],
   "source": []
  }
 ],
 "metadata": {
  "kernelspec": {
   "display_name": "multignn",
   "language": "python",
   "name": "python3"
  },
  "language_info": {
   "codemirror_mode": {
    "name": "ipython",
    "version": 3
   },
   "file_extension": ".py",
   "mimetype": "text/x-python",
   "name": "python",
   "nbconvert_exporter": "python",
   "pygments_lexer": "ipython3",
   "version": "3.9.19"
  }
 },
 "nbformat": 4,
 "nbformat_minor": 2
}
